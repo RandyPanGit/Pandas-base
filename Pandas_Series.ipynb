{
  "nbformat": 4,
  "nbformat_minor": 0,
  "metadata": {
    "colab": {
      "name": "Pandas_Series.ipynb",
      "provenance": [],
      "collapsed_sections": [],
      "authorship_tag": "ABX9TyOlgJX3SHpjJ72nsbbF7zX5",
      "include_colab_link": true
    },
    "kernelspec": {
      "name": "python3",
      "display_name": "Python 3"
    }
  },
  "cells": [
    {
      "cell_type": "markdown",
      "metadata": {
        "id": "view-in-github",
        "colab_type": "text"
      },
      "source": [
        "<a href=\"https://colab.research.google.com/github/RandyPanGit/Pandas-base/blob/main/Pandas_Series.ipynb\" target=\"_parent\"><img src=\"https://colab.research.google.com/assets/colab-badge.svg\" alt=\"Open In Colab\"/></a>"
      ]
    },
    {
      "cell_type": "markdown",
      "metadata": {
        "id": "o3AfVFxyPL9a"
      },
      "source": [
        "# Pandas Series 筆記"
      ]
    },
    {
      "cell_type": "code",
      "metadata": {
        "id": "rTlimgTWPRgK"
      },
      "source": [
        "import pandas as pd"
      ],
      "execution_count": 1,
      "outputs": []
    },
    {
      "cell_type": "markdown",
      "metadata": {
        "id": "VM0gcDIYPYMz"
      },
      "source": [
        "## 建立Pandas Series"
      ]
    },
    {
      "cell_type": "code",
      "metadata": {
        "id": "b6ZH-fmyPVDX",
        "outputId": "09c30e38-adbb-4085-9831-c2af8d059361",
        "colab": {
          "base_uri": "https://localhost:8080/"
        }
      },
      "source": [
        "phone = pd.Series([\"Apple\", \"Samsung\", \"Mi\", \"Sony\"])\n",
        "print(phone)"
      ],
      "execution_count": 2,
      "outputs": [
        {
          "output_type": "stream",
          "text": [
            "0      Apple\n",
            "1    Samsung\n",
            "2         Mi\n",
            "3       Sony\n",
            "dtype: object\n"
          ],
          "name": "stdout"
        }
      ]
    },
    {
      "cell_type": "markdown",
      "metadata": {
        "id": "Y-dCdOIvSmL4"
      },
      "source": [
        "## 指定索引值"
      ]
    },
    {
      "cell_type": "code",
      "metadata": {
        "id": "_2moc__APlF0",
        "outputId": "2367c412-1778-49b3-dd01-13414fbecc56",
        "colab": {
          "base_uri": "https://localhost:8080/"
        }
      },
      "source": [
        "phone = pd.Series([\"Apple\", \"Samsung\", \"Mi\", \"Sony\"], index=[\"p1\", \"p2\", \"p3\", \"p4\"])\n",
        "print(phone)"
      ],
      "execution_count": 3,
      "outputs": [
        {
          "output_type": "stream",
          "text": [
            "p1      Apple\n",
            "p2    Samsung\n",
            "p3         Mi\n",
            "p4       Sony\n",
            "dtype: object\n"
          ],
          "name": "stdout"
        }
      ]
    },
    {
      "cell_type": "markdown",
      "metadata": {
        "id": "MXBMN53WStQu"
      },
      "source": [
        "## 取值"
      ]
    },
    {
      "cell_type": "code",
      "metadata": {
        "id": "TL6992pmPv_K",
        "outputId": "0ed1bb07-94ca-487c-98a3-6a929eb47390",
        "colab": {
          "base_uri": "https://localhost:8080/"
        }
      },
      "source": [
        "phone = pd.Series([\"Apple\", \"Samsung\", \"Mi\", \"Sony\"], index=[\"p1\", \"p2\", \"p3\", \"p4\"])\n",
        "print(phone[1])  # 依據資料順序取值(從0開始計算)\n",
        "print(phone[\"p3\"])  # 依據資料索引值取值"
      ],
      "execution_count": 4,
      "outputs": [
        {
          "output_type": "stream",
          "text": [
            "Samsung\n",
            "Mi\n"
          ],
          "name": "stdout"
        }
      ]
    },
    {
      "cell_type": "markdown",
      "metadata": {
        "id": "gAHvIc2ISvZ1"
      },
      "source": [
        "## 新增資料"
      ]
    },
    {
      "cell_type": "code",
      "metadata": {
        "id": "wnDonf42P3fj",
        "outputId": "95f3b683-9317-4961-a2f8-1d2d269756d6",
        "colab": {
          "base_uri": "https://localhost:8080/"
        }
      },
      "source": [
        "phone = pd.Series([\"Apple\", \"Samsung\", \"Mi\", \"Sony\"])\n",
        "data = pd.Series([\"Htc\", \"Oppo\"])  # 新增的資料\n",
        "combined = phone.append(data)\n",
        "print(combined)"
      ],
      "execution_count": 5,
      "outputs": [
        {
          "output_type": "stream",
          "text": [
            "0      Apple\n",
            "1    Samsung\n",
            "2         Mi\n",
            "3       Sony\n",
            "0        Htc\n",
            "1       Oppo\n",
            "dtype: object\n"
          ],
          "name": "stdout"
        }
      ]
    },
    {
      "cell_type": "markdown",
      "metadata": {
        "id": "XBqw31lJTAq8"
      },
      "source": [
        "## 新增資料並接續原有索引值"
      ]
    },
    {
      "cell_type": "code",
      "metadata": {
        "id": "RA4qclMdRgiT",
        "outputId": "95982518-350b-44b8-b7bb-15fbca4945c3",
        "colab": {
          "base_uri": "https://localhost:8080/"
        }
      },
      "source": [
        "phone = pd.Series([\"Apple\", \"Samsung\", \"Mi\", \"Sony\"])\n",
        "data = pd.Series([\"Htc\", \"Oppo\"])  # 新增的資料\n",
        "combined = phone.append(data, ignore_index=True)\n",
        "print(combined)"
      ],
      "execution_count": 7,
      "outputs": [
        {
          "output_type": "stream",
          "text": [
            "0      Apple\n",
            "1    Samsung\n",
            "2         Mi\n",
            "3       Sony\n",
            "4        Htc\n",
            "5       Oppo\n",
            "dtype: object\n"
          ],
          "name": "stdout"
        }
      ]
    },
    {
      "cell_type": "markdown",
      "metadata": {
        "id": "zNBdO_0lTIm0"
      },
      "source": [
        "## 修改Pandas Series資料"
      ]
    },
    {
      "cell_type": "code",
      "metadata": {
        "id": "L_x6xsT3RjPf",
        "outputId": "33d75d6e-22b5-4002-a284-d58b7ad96d7a",
        "colab": {
          "base_uri": "https://localhost:8080/"
        }
      },
      "source": [
        "phone = pd.Series([\"Apple\", \"Samsung\", \"Mi\", \"Sony\"])\n",
        "phone[1] = \"Oppo\"\n",
        "print(phone)"
      ],
      "execution_count": 8,
      "outputs": [
        {
          "output_type": "stream",
          "text": [
            "0    Apple\n",
            "1     Oppo\n",
            "2       Mi\n",
            "3     Sony\n",
            "dtype: object\n"
          ],
          "name": "stdout"
        }
      ]
    },
    {
      "cell_type": "code",
      "metadata": {
        "id": "8m_EMjMHRmEf",
        "outputId": "3f83e3a0-a18e-4169-acb4-cf6c1e6220f9",
        "colab": {
          "base_uri": "https://localhost:8080/"
        }
      },
      "source": [
        "phone = pd.Series([\"Apple\", \"Samsung\", \"Mi\", \"Sony\"], index=[\"p1\", \"p2\", \"p3\", \"p4\"])\n",
        "phone[\"p3\"] = \"Oppo\"\n",
        "print(phone)"
      ],
      "execution_count": 9,
      "outputs": [
        {
          "output_type": "stream",
          "text": [
            "p1      Apple\n",
            "p2    Samsung\n",
            "p3       Oppo\n",
            "p4       Sony\n",
            "dtype: object\n"
          ],
          "name": "stdout"
        }
      ]
    },
    {
      "cell_type": "markdown",
      "metadata": {
        "id": "mUZ_2QbrVtkI"
      },
      "source": [
        "## 取得Pandas Series資料筆數"
      ]
    },
    {
      "cell_type": "code",
      "metadata": {
        "id": "PXhOV36PVrV4",
        "outputId": "8502e7cf-665d-42c1-dce2-ee5ac1f3ee52",
        "colab": {
          "base_uri": "https://localhost:8080/"
        }
      },
      "source": [
        "phone = pd.Series([\"Apple\", \"Samsung\", \"Mi\", \"Sony\"])\n",
        "print(phone.size)  # 執行結果4"
      ],
      "execution_count": 21,
      "outputs": [
        {
          "output_type": "stream",
          "text": [
            "4\n"
          ],
          "name": "stdout"
        }
      ]
    },
    {
      "cell_type": "markdown",
      "metadata": {
        "id": "w_K3GZpCVwm_"
      },
      "source": [
        "## Pandas Series字串運算"
      ]
    },
    {
      "cell_type": "code",
      "metadata": {
        "id": "J3p4V7YjRofG",
        "outputId": "61a3bedc-b2bc-4f6b-871a-e0a5c5197af2",
        "colab": {
          "base_uri": "https://localhost:8080/"
        }
      },
      "source": [
        "phone = pd.Series([\"Apple\", \"Samsung\", \"Mi\", \"Sony\"])\n",
        "print(phone.str.upper())  # 將字串資料轉換為大寫"
      ],
      "execution_count": 10,
      "outputs": [
        {
          "output_type": "stream",
          "text": [
            "0      APPLE\n",
            "1    SAMSUNG\n",
            "2         MI\n",
            "3       SONY\n",
            "dtype: object\n"
          ],
          "name": "stdout"
        }
      ]
    },
    {
      "cell_type": "code",
      "metadata": {
        "id": "zj4u1tjoRrWm",
        "outputId": "d7f902db-a54a-40c1-cec7-1bcb12e1608e",
        "colab": {
          "base_uri": "https://localhost:8080/"
        }
      },
      "source": [
        "phone = pd.Series([\"Apple\", \"Samsung\", \"Mi\", \"Sony\"])\n",
        "print(phone.str.lower())  # 將字串資料轉換為小寫"
      ],
      "execution_count": 11,
      "outputs": [
        {
          "output_type": "stream",
          "text": [
            "0      apple\n",
            "1    samsung\n",
            "2         mi\n",
            "3       sony\n",
            "dtype: object\n"
          ],
          "name": "stdout"
        }
      ]
    },
    {
      "cell_type": "code",
      "metadata": {
        "id": "HLlH_Y3NRtSt",
        "outputId": "ba1fca77-9f67-41ac-e5a5-29ee97e1426d",
        "colab": {
          "base_uri": "https://localhost:8080/"
        }
      },
      "source": [
        "phone = pd.Series([\"Apple\", \"Samsung\", \"Mi\", \"Sony\"])\n",
        "print(phone.str.contains(\"Sa\"))  # 搜尋是否包含特定字串"
      ],
      "execution_count": 12,
      "outputs": [
        {
          "output_type": "stream",
          "text": [
            "0    False\n",
            "1     True\n",
            "2    False\n",
            "3    False\n",
            "dtype: bool\n"
          ],
          "name": "stdout"
        }
      ]
    },
    {
      "cell_type": "code",
      "metadata": {
        "id": "Fvmz4DWSRvx-",
        "outputId": "5fddcddb-33ed-4647-81c1-ea2600699c1b",
        "colab": {
          "base_uri": "https://localhost:8080/"
        }
      },
      "source": [
        "phone = pd.Series([\"Apple\", \"Samsung\", \"Mi\", \"Sony\"])\n",
        "print(phone.str.cat(sep=\";\"))  # 利用自訂分隔符號連接字串"
      ],
      "execution_count": 13,
      "outputs": [
        {
          "output_type": "stream",
          "text": [
            "Apple;Samsung;Mi;Sony\n"
          ],
          "name": "stdout"
        }
      ]
    },
    {
      "cell_type": "code",
      "metadata": {
        "id": "OyHVQyJsRxyH",
        "outputId": "1551305e-e71b-49e1-abf2-24d4102ed83c",
        "colab": {
          "base_uri": "https://localhost:8080/"
        }
      },
      "source": [
        "phone = pd.Series([\"Apple\", \"Samsung\", \"Mi\", \"Sony\"])\n",
        "print(phone.str.replace(\"Samsung\", \"Oppo\"))  # 將Samsung取代為Oppo"
      ],
      "execution_count": 14,
      "outputs": [
        {
          "output_type": "stream",
          "text": [
            "0    Apple\n",
            "1     Oppo\n",
            "2       Mi\n",
            "3     Sony\n",
            "dtype: object\n"
          ],
          "name": "stdout"
        }
      ]
    },
    {
      "cell_type": "markdown",
      "metadata": {
        "id": "ZDomuEE2V3jf"
      },
      "source": [
        "## Pandas Series數值運算"
      ]
    },
    {
      "cell_type": "code",
      "metadata": {
        "id": "fZUnegrpR0rH",
        "outputId": "666eeb89-5739-4219-b52e-424419bc580d",
        "colab": {
          "base_uri": "https://localhost:8080/"
        }
      },
      "source": [
        "numbers = pd.Series([22, 5, 10, 12, 6, 30])\n",
        "print(numbers.max())  # 執行結果30"
      ],
      "execution_count": 15,
      "outputs": [
        {
          "output_type": "stream",
          "text": [
            "30\n"
          ],
          "name": "stdout"
        }
      ]
    },
    {
      "cell_type": "code",
      "metadata": {
        "id": "m33q3RLwR3In",
        "outputId": "d224e6ae-9298-4bc8-e9ba-126ab3c961ea",
        "colab": {
          "base_uri": "https://localhost:8080/"
        }
      },
      "source": [
        "numbers = pd.Series([22, 5, 10, 12, 6, 30])\n",
        "print(numbers.min())  #執行結果5"
      ],
      "execution_count": 16,
      "outputs": [
        {
          "output_type": "stream",
          "text": [
            "5\n"
          ],
          "name": "stdout"
        }
      ]
    },
    {
      "cell_type": "code",
      "metadata": {
        "id": "5sn27P2lR4zn",
        "outputId": "d706aa04-0cd2-4ed4-86c4-55d2ff7a479f",
        "colab": {
          "base_uri": "https://localhost:8080/"
        }
      },
      "source": [
        "numbers = pd.Series([22, 5, 10, 12, 6, 30])\n",
        "print(numbers.sum())  #執行結果85"
      ],
      "execution_count": 17,
      "outputs": [
        {
          "output_type": "stream",
          "text": [
            "85\n"
          ],
          "name": "stdout"
        }
      ]
    },
    {
      "cell_type": "code",
      "metadata": {
        "id": "K4Gdc4l6R6lP",
        "outputId": "df2da448-529f-4948-c1a3-6fbbefe6b1e2",
        "colab": {
          "base_uri": "https://localhost:8080/"
        }
      },
      "source": [
        "numbers = pd.Series([22, 5, 10, 12, 6, 30])\n",
        "print(numbers.mean())  # 執行結果14.166666666666666"
      ],
      "execution_count": 18,
      "outputs": [
        {
          "output_type": "stream",
          "text": [
            "14.166666666666666\n"
          ],
          "name": "stdout"
        }
      ]
    },
    {
      "cell_type": "code",
      "metadata": {
        "id": "inDLZMV_R8nv",
        "outputId": "5d34f70c-5819-4140-ebf9-442c0fec27e2",
        "colab": {
          "base_uri": "https://localhost:8080/"
        }
      },
      "source": [
        "numbers = pd.Series([22, 5, 10, 12, 6, 30])\n",
        "print(numbers.nlargest(2))  # 最大的2個數值"
      ],
      "execution_count": 19,
      "outputs": [
        {
          "output_type": "stream",
          "text": [
            "5    30\n",
            "0    22\n",
            "dtype: int64\n"
          ],
          "name": "stdout"
        }
      ]
    },
    {
      "cell_type": "code",
      "metadata": {
        "id": "Vz56h2CJR-Ne",
        "outputId": "5063dcf7-c3bf-49a6-e80d-50c6129f3b5f",
        "colab": {
          "base_uri": "https://localhost:8080/"
        }
      },
      "source": [
        "numbers = pd.Series([22, 5, 10, 12, 6, 30])\n",
        "print(numbers.nsmallest(2))  # 最小的2個數值"
      ],
      "execution_count": 20,
      "outputs": [
        {
          "output_type": "stream",
          "text": [
            "1    5\n",
            "4    6\n",
            "dtype: int64\n"
          ],
          "name": "stdout"
        }
      ]
    }
  ]
}